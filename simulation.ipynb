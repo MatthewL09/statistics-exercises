{
 "cells": [
  {
   "cell_type": "code",
   "execution_count": 6,
   "id": "2c8188f4",
   "metadata": {},
   "outputs": [],
   "source": [
    "import pandas as pd\n",
    "import numpy as np\n",
    "import random as r\n"
   ]
  },
  {
   "cell_type": "markdown",
   "id": "3104c840",
   "metadata": {},
   "source": [
    "# NUMBER 1"
   ]
  },
  {
   "cell_type": "code",
   "execution_count": 260,
   "id": "dd4a742c",
   "metadata": {},
   "outputs": [
    {
     "data": {
      "text/plain": [
       "0.16"
      ]
     },
     "execution_count": 260,
     "metadata": {},
     "output_type": "execute_result"
    }
   ],
   "source": [
    "# NUMBER 1\n",
    "dice = 2\n",
    "rolls = 100\n",
    "\n",
    "roll = np.random.randint(1, 6, size =(rolls, dice))\n",
    "roll_double = roll[:,0] == roll[:,1]\n",
    "percentage = (roll_double).mean()\n",
    "percentage"
   ]
  },
  {
   "cell_type": "code",
   "execution_count": null,
   "id": "1aaf3a77",
   "metadata": {},
   "outputs": [],
   "source": []
  },
  {
   "cell_type": "code",
   "execution_count": 265,
   "id": "0a8069df",
   "metadata": {},
   "outputs": [
    {
     "data": {
      "text/plain": [
       "0.1695"
      ]
     },
     "execution_count": 265,
     "metadata": {},
     "output_type": "execute_result"
    }
   ],
   "source": [
    "df = pd.DataFrame()\n",
    "df['roll_one'] = np.random.randint(1,7, 10_000)\n",
    "df['roll_two'] = np.random.randint(1,7, 10_000)\n",
    "\n",
    "(df.roll_one == df.roll_two).mean()"
   ]
  },
  {
   "cell_type": "markdown",
   "id": "ba3c93b3",
   "metadata": {},
   "source": []
  },
  {
   "cell_type": "markdown",
   "id": "ef877461",
   "metadata": {},
   "source": [
    "# NUMBER 2"
   ]
  },
  {
   "cell_type": "code",
   "execution_count": 266,
   "id": "a4276082",
   "metadata": {},
   "outputs": [
    {
     "data": {
      "text/plain": [
       "(0, 1, 0)"
      ]
     },
     "execution_count": 266,
     "metadata": {},
     "output_type": "execute_result"
    }
   ],
   "source": [
    "## NUMBER 2\n",
    "# creating 3 coinflips either head 1, or tails 0\n",
    "flip1 = r.choice([1,0])\n",
    "flip2 = r.choice([1,0])\n",
    "flip3 = r.choice([1,0])\n",
    "\n",
    "# Let's see the flip outcomes next to each other\n",
    "\n",
    "flip1, flip2, flip3"
   ]
  },
  {
   "cell_type": "code",
   "execution_count": 112,
   "id": "b44f1dcd",
   "metadata": {},
   "outputs": [
    {
     "data": {
      "text/plain": [
       "array([[0, 0, 0, ..., 1, 0, 0],\n",
       "       [1, 1, 1, ..., 0, 1, 0],\n",
       "       [0, 1, 1, ..., 1, 1, 1],\n",
       "       ...,\n",
       "       [0, 0, 1, ..., 1, 0, 1],\n",
       "       [0, 0, 1, ..., 1, 1, 0],\n",
       "       [0, 1, 1, ..., 1, 1, 0]])"
      ]
     },
     "execution_count": 112,
     "metadata": {},
     "output_type": "execute_result"
    }
   ],
   "source": [
    "# A quicker way to do this with numpy.\n",
    "# We want random flips for 1 or 0 and 8 total flips\n",
    "flip8 = np.random.choice([1,0], size = (80000)).reshape(10000, 8)\n",
    "flip8\n"
   ]
  },
  {
   "cell_type": "code",
   "execution_count": 113,
   "id": "6449bcab",
   "metadata": {},
   "outputs": [
    {
     "data": {
      "text/plain": [
       "array([2, 5, 6, ..., 4, 5, 6])"
      ]
     },
     "execution_count": 113,
     "metadata": {},
     "output_type": "execute_result"
    }
   ],
   "source": [
    "#Checking through each row and adding up how many head flips we got\n",
    "headcount = flip8.sum(axis=1)\n",
    "headcount"
   ]
  },
  {
   "cell_type": "code",
   "execution_count": 114,
   "id": "ea3f45a4",
   "metadata": {},
   "outputs": [
    {
     "data": {
      "text/plain": [
       "array([False,  True,  True, ...,  True,  True,  True])"
      ]
     },
     "execution_count": 114,
     "metadata": {},
     "output_type": "execute_result"
    }
   ],
   "source": [
    "# checking through each test and counting how many heads \"1\" we get\n",
    "\n",
    "head_flips = headcount >= 3\n",
    "head_flips"
   ]
  },
  {
   "cell_type": "code",
   "execution_count": 115,
   "id": "8b73ffd7",
   "metadata": {},
   "outputs": [
    {
     "data": {
      "text/plain": [
       "0.8575"
      ]
     },
     "execution_count": 115,
     "metadata": {},
     "output_type": "execute_result"
    }
   ],
   "source": [
    "#Lets make a bigger test \n",
    "head_flips.mean()"
   ]
  },
  {
   "cell_type": "code",
   "execution_count": null,
   "id": "268254b9",
   "metadata": {},
   "outputs": [],
   "source": []
  },
  {
   "cell_type": "markdown",
   "id": "822db1be",
   "metadata": {},
   "source": [
    "# NUMBER 3\n"
   ]
  },
  {
   "cell_type": "code",
   "execution_count": 196,
   "id": "22a08fb8",
   "metadata": {},
   "outputs": [
    {
     "data": {
      "text/plain": [
       "0.0664"
      ]
     },
     "execution_count": 196,
     "metadata": {},
     "output_type": "execute_result"
    }
   ],
   "source": [
    "## NUMBER 3\n",
    "# choice allows a little more clarity than uniform will, easier for review\n",
    "#Create a process of random cohort selection\n",
    "# data_sci = .25\n",
    "# billboard = 2\n",
    "# data = 1\n",
    "# web_dev = 3\n",
    "\n",
    "\n",
    "select_cohort = np.random.choice([1,3,3,3], 10000 * 2).reshape(10000,2)\n",
    "select_cohort\n",
    "\n",
    "outcome = select_cohort.sum(axis=1)\n",
    "# If the sum of each equals to '2' I know it is 2 data sci billboards\n",
    "data_sci = outcome == 2\n",
    "data_sci.mean()"
   ]
  },
  {
   "cell_type": "code",
   "execution_count": 271,
   "id": "c5129be2",
   "metadata": {},
   "outputs": [
    {
     "data": {
      "text/plain": [
       "0.0616"
      ]
     },
     "execution_count": 271,
     "metadata": {},
     "output_type": "execute_result"
    }
   ],
   "source": [
    "simulations =np.random.choice(['web dev', 'data sci'], p = (.75, .25), size =(10000, 2))\n",
    "simulations\n",
    "\n",
    "((simulations == 'data sci').sum(axis = 1) == 2).mean()"
   ]
  },
  {
   "cell_type": "markdown",
   "id": "51dd5cb0",
   "metadata": {},
   "source": [
    "# NUMBER 4"
   ]
  },
  {
   "cell_type": "code",
   "execution_count": 279,
   "id": "3ea47799",
   "metadata": {},
   "outputs": [
    {
     "data": {
      "text/plain": [
       "0.9063"
      ]
     },
     "execution_count": 279,
     "metadata": {},
     "output_type": "execute_result"
    }
   ],
   "source": [
    "std = 1.5\n",
    "pop_avg = 3\n",
    "# Using random.normal to set the poptarts bought and std for mon-fri\n",
    "bought = np.random.normal(pop_avg, std, size =(10000,4))\n",
    "# adding up total bought from mon-thur(1-4) \n",
    "consumed = bought.sum(axis=1)\n",
    "# finding the number of poptarts left after thursday\n",
    "remaining = 17 - consumed\n",
    "\n",
    "(remaining >=1).mean()"
   ]
  },
  {
   "cell_type": "code",
   "execution_count": 278,
   "id": "2f7d4a12",
   "metadata": {},
   "outputs": [
    {
     "data": {
      "text/plain": [
       "0.9317"
      ]
     },
     "execution_count": 278,
     "metadata": {},
     "output_type": "execute_result"
    }
   ],
   "source": [
    "#round afterwards to get rid of floats\n",
    "purchases = np.random.normal(3,1.5, size =(10000, 4)).round()\n",
    "# where function used to rid of negative numbers and use 0 instead\n",
    "purchases = np.where(purchases<0, 0, purchases)\n",
    "(purchases.sum(axis =1)<= 16).mean()"
   ]
  },
  {
   "cell_type": "markdown",
   "id": "d8af997b",
   "metadata": {},
   "source": [
    "# NUMBER 5"
   ]
  },
  {
   "cell_type": "code",
   "execution_count": 208,
   "id": "852b7b22",
   "metadata": {},
   "outputs": [
    {
     "data": {
      "text/plain": [
       "0.2151"
      ]
     },
     "execution_count": 208,
     "metadata": {},
     "output_type": "execute_result"
    }
   ],
   "source": [
    "m = 178\n",
    "mstd = 8\n",
    "\n",
    "w = 170\n",
    "wstd = 6\n",
    "\n",
    "#Getting the average height of men and women over 10,0000 measurements\n",
    "heightm = np.random.normal(m, mstd, size =(10000))\n",
    "\n",
    "heightw = np.random.normal(w, wstd, size =(10000))\n",
    "\n",
    "# checking the percentage of woment being taller than men\n",
    "tallerw = (heightw > heightm).mean()\n",
    "tallerw"
   ]
  },
  {
   "cell_type": "code",
   "execution_count": 282,
   "id": "b2e1875a",
   "metadata": {},
   "outputs": [
    {
     "data": {
      "text/plain": [
       "0.2142"
      ]
     },
     "execution_count": 282,
     "metadata": {},
     "output_type": "execute_result"
    }
   ],
   "source": [
    "mensh = np.random.normal(178, 8, 10000)\n",
    "\n",
    "womensh =np.random.normal(170, 6, 10000)\n",
    "\n",
    "(womensh > mensh).mean()\n",
    "\n"
   ]
  },
  {
   "cell_type": "markdown",
   "id": "98b1f195",
   "metadata": {},
   "source": [
    "# NUMBER 6"
   ]
  },
  {
   "cell_type": "code",
   "execution_count": 238,
   "id": "092297fa",
   "metadata": {},
   "outputs": [
    {
     "data": {
      "text/plain": [
       "0.8123"
      ]
     },
     "execution_count": 238,
     "metadata": {},
     "output_type": "execute_result"
    }
   ],
   "source": [
    "corrupted = (1/250)\n",
    "\n",
    "studentn = 50\n",
    "simulation = 10000\n",
    "\n",
    "# allows me to see random outcomes for # of simulations ran per student\n",
    "test = np.random.random([simulation,studentn])\n",
    "# we are now specifying a value of error where the test # less than chance of currupt downloads\n",
    "error = test < corrupted\n",
    "# check for the number of downloads with absolutely NO errors '=='\n",
    "clean_dwnld = (error.sum(axis=1) ==0).mean()\n",
    "clean_dwnld"
   ]
  },
  {
   "cell_type": "code",
   "execution_count": 241,
   "id": "6d07c5ff",
   "metadata": {},
   "outputs": [
    {
     "data": {
      "text/plain": [
       "0.18769999999999998"
      ]
     },
     "execution_count": 241,
     "metadata": {},
     "output_type": "execute_result"
    }
   ],
   "source": [
    "studentsn = 150\n",
    "\n",
    "test2 = np.random.random([simulation,studentsn])\n",
    "\n",
    "error = test < corrupted\n",
    "cleanly = (error.sum(axis = 1) == 0).mean()\n",
    "issue_observe = 1 - cleanly \n",
    "issue_observe"
   ]
  },
  {
   "cell_type": "code",
   "execution_count": 284,
   "id": "072e6b6a",
   "metadata": {},
   "outputs": [
    {
     "data": {
      "text/plain": [
       "0.8234"
      ]
     },
     "execution_count": 284,
     "metadata": {},
     "output_type": "execute_result"
    }
   ],
   "source": [
    "nstudents = 50\n",
    "\n",
    "simulations = np.random.choice([True, False], p=(1/250, 249/250), size =(10000, nstudents))\n",
    "# for every row look up values, if any value is true give 1, if false give 0\n",
    "(simulations.sum(axis =1) == 0).mean()"
   ]
  },
  {
   "cell_type": "code",
   "execution_count": 286,
   "id": "e68b20de",
   "metadata": {},
   "outputs": [
    {
     "data": {
      "text/plain": [
       "0.8234"
      ]
     },
     "execution_count": 286,
     "metadata": {},
     "output_type": "execute_result"
    }
   ],
   "source": [
    "1-simulations.any(axis=1).mean()"
   ]
  },
  {
   "cell_type": "code",
   "execution_count": 291,
   "id": "79d27491",
   "metadata": {},
   "outputs": [
    {
     "data": {
      "text/plain": [
       "0.4426"
      ]
     },
     "execution_count": 291,
     "metadata": {},
     "output_type": "execute_result"
    }
   ],
   "source": [
    "nstudents = 150\n",
    "\n",
    "simulations = np.random.choice([True, False], p=(1/250, 249/250), size =(10000, nstudents))\n",
    "# for every row look up values, if any value is true give 1, if false give 0\n",
    "(simulations.any(axis =1)).mean()"
   ]
  },
  {
   "cell_type": "code",
   "execution_count": 292,
   "id": "b558cd44",
   "metadata": {},
   "outputs": [
    {
     "data": {
      "text/plain": [
       "0.1567"
      ]
     },
     "execution_count": 292,
     "metadata": {},
     "output_type": "execute_result"
    }
   ],
   "source": [
    "nstudents = 450\n",
    "\n",
    "simulations = np.random.choice([True, False], p=(1/250, 249/250), size =(10000, nstudents))\n",
    "# for every row look up values, if any value is true give 1, if false give 0\n",
    "(simulations.sum(axis =1) == 0).mean()"
   ]
  },
  {
   "cell_type": "code",
   "execution_count": null,
   "id": "8a0d63c1",
   "metadata": {},
   "outputs": [],
   "source": []
  },
  {
   "cell_type": "code",
   "execution_count": null,
   "id": "6da159bd",
   "metadata": {},
   "outputs": [],
   "source": []
  },
  {
   "cell_type": "markdown",
   "id": "e585ec9e",
   "metadata": {},
   "source": [
    "# NUMBER 7"
   ]
  },
  {
   "cell_type": "code",
   "execution_count": 254,
   "id": "cba0398b",
   "metadata": {},
   "outputs": [
    {
     "data": {
      "text/plain": [
       "array([[0.11479029, 0.42700932, 0.62641349],\n",
       "       [0.09760497, 0.59578574, 0.46534556],\n",
       "       [0.71791062, 0.56361567, 0.81008805],\n",
       "       ...,\n",
       "       [0.0775306 , 0.86657301, 0.15303149],\n",
       "       [0.54629492, 0.6705569 , 0.86916755],\n",
       "       [0.15081797, 0.9432326 , 0.83427042]])"
      ]
     },
     "execution_count": 254,
     "metadata": {},
     "output_type": "execute_result"
    }
   ],
   "source": [
    "truck_present = .7 #percentage\n",
    "no_sighting = 3 #days\n",
    "\n",
    "\n",
    "travis_ft = np.random.random([10000, no_sighting])\n",
    "travis_ft\n",
    "# likely = travis_ft < truck_present\n",
    "# not_there = (likely.sum(axis=1) == 0).mean()\n",
    "# not_there"
   ]
  },
  {
   "cell_type": "code",
   "execution_count": 256,
   "id": "5dae3179",
   "metadata": {},
   "outputs": [
    {
     "data": {
      "text/plain": [
       "array([[ True,  True,  True],\n",
       "       [ True,  True,  True],\n",
       "       [False,  True, False],\n",
       "       ...,\n",
       "       [ True, False,  True],\n",
       "       [ True,  True, False],\n",
       "       [ True, False, False]])"
      ]
     },
     "execution_count": 256,
     "metadata": {},
     "output_type": "execute_result"
    }
   ],
   "source": [
    "#getting booleans for travis a foodtruck not being present based on chance\n",
    "likely = travis_ft < truck_present\n",
    "likely"
   ]
  },
  {
   "cell_type": "code",
   "execution_count": 257,
   "id": "fea0592d",
   "metadata": {},
   "outputs": [
    {
     "data": {
      "text/plain": [
       "0.0274"
      ]
     },
     "execution_count": 257,
     "metadata": {},
     "output_type": "execute_result"
    }
   ],
   "source": [
    "# discovering the percentage for a foodtruck being present for 3 days\n",
    "not_there = (likely.sum(axis=1) == 0).mean()\n",
    "not_there"
   ]
  },
  {
   "cell_type": "code",
   "execution_count": 297,
   "id": "59e02bc4",
   "metadata": {},
   "outputs": [
    {
     "data": {
      "text/plain": [
       "0.0257"
      ]
     },
     "execution_count": 297,
     "metadata": {},
     "output_type": "execute_result"
    }
   ],
   "source": [
    "simulations = np.random.choice(['food truck', 'no food truck'], p =(.7, .3), size = (10000, 3))\n",
    "\n",
    "(simulations =='no food truck').all(axis=1).mean()"
   ]
  },
  {
   "cell_type": "code",
   "execution_count": null,
   "id": "cb64e7c1",
   "metadata": {},
   "outputs": [],
   "source": [
    "simulations.np.random.choice['food truck', 'no food truck'], p =(.7, .3), size = (10000, 3))"
   ]
  },
  {
   "cell_type": "code",
   "execution_count": null,
   "id": "a66a59bb",
   "metadata": {},
   "outputs": [],
   "source": []
  },
  {
   "cell_type": "markdown",
   "id": "7600a8f9",
   "metadata": {},
   "source": [
    "# NUMBER 8"
   ]
  },
  {
   "cell_type": "code",
   "execution_count": 303,
   "id": "baf44226",
   "metadata": {},
   "outputs": [
    {
     "data": {
      "text/plain": [
       "0.5115"
      ]
     },
     "execution_count": 303,
     "metadata": {},
     "output_type": "execute_result"
    }
   ],
   "source": [
    "simulations = np.random.randint(1,366, size = (10000, 23))\n",
    "simulations = pd.DataFrame(simulations)\n",
    "(simulations.apply(lambda birthdays:birthdays.nunique(), axis =1)< 23).mean()"
   ]
  },
  {
   "cell_type": "code",
   "execution_count": 304,
   "id": "d8a0c691",
   "metadata": {},
   "outputs": [
    {
     "data": {
      "text/plain": [
       "0.419"
      ]
     },
     "execution_count": 304,
     "metadata": {},
     "output_type": "execute_result"
    }
   ],
   "source": [
    "simulations = np.random.randint(1,366, size = (10000, 20))\n",
    "simulations = pd.DataFrame(simulations)\n",
    "(simulations.apply(lambda birthdays:birthdays.nunique(), axis =1)< 20).mean()"
   ]
  },
  {
   "cell_type": "code",
   "execution_count": 306,
   "id": "fe411ba9",
   "metadata": {},
   "outputs": [
    {
     "data": {
      "text/plain": [
       "0.9717"
      ]
     },
     "execution_count": 306,
     "metadata": {},
     "output_type": "execute_result"
    }
   ],
   "source": [
    "simulations = np.random.randint(1,366, size = (10000, 50))\n",
    "simulations = pd.DataFrame(simulations)\n",
    "(simulations.apply(lambda birthdays:birthdays.nunique(), axis =1)< 50).mean()"
   ]
  },
  {
   "cell_type": "code",
   "execution_count": null,
   "id": "855a3e1b",
   "metadata": {},
   "outputs": [],
   "source": []
  }
 ],
 "metadata": {
  "kernelspec": {
   "display_name": "Python 3 (ipykernel)",
   "language": "python",
   "name": "python3"
  },
  "language_info": {
   "codemirror_mode": {
    "name": "ipython",
    "version": 3
   },
   "file_extension": ".py",
   "mimetype": "text/x-python",
   "name": "python",
   "nbconvert_exporter": "python",
   "pygments_lexer": "ipython3",
   "version": "3.9.7"
  }
 },
 "nbformat": 4,
 "nbformat_minor": 5
}
