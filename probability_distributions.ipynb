{
 "cells": [
  {
   "cell_type": "code",
   "execution_count": 78,
   "id": "db258d98",
   "metadata": {},
   "outputs": [],
   "source": [
    "import numpy as np\n",
    "import pandas as pd\n",
    "import matplotlib.pyplot as plt\n",
    "from scipy import stats\n",
    "\n",
    "from env import get_db_url\n"
   ]
  },
  {
   "cell_type": "markdown",
   "id": "d5ac5b2f",
   "metadata": {},
   "source": [
    "# NUMBER 1"
   ]
  },
  {
   "cell_type": "code",
   "execution_count": 147,
   "id": "680d917a",
   "metadata": {},
   "outputs": [
    {
     "data": {
      "image/png": "[encoded data removed]",
      "text/plain": [
       "<Figure size 432x288 with 1 Axes>"
      ]
     },
     "metadata": {
      "needs_background": "light"
     },
     "output_type": "display_data"
    }
   ],
   "source": [
    "pd.Series(stats.poisson(2).rvs(10000)).value_counts().sort_index().plot.bar()\n",
    "plt.title('Poisson Representing # of Cars Waiting at Bank')\n",
    "plt.ylabel('Frequency')\n",
    "plt.show()\n"
   ]
  },
  {
   "cell_type": "code",
   "execution_count": 148,
   "id": "a6c515b9",
   "metadata": {},
   "outputs": [
    {
     "data": {
      "text/plain": [
       "0.1353352832366127"
      ]
     },
     "execution_count": 148,
     "metadata": {},
     "output_type": "execute_result"
    }
   ],
   "source": [
    "mean = 2\n",
    "# probability that 0 cars drive up\n",
    "\n",
    "stats.poisson(2).pmf(0)"
   ]
  },
  {
   "cell_type": "code",
   "execution_count": 145,
   "id": "e9acd5c5",
   "metadata": {},
   "outputs": [
    {
     "data": {
      "text/plain": [
       "0.1338"
      ]
     },
     "execution_count": 145,
     "metadata": {},
     "output_type": "execute_result"
    }
   ],
   "source": [
    "# simulation\n",
    "\n",
    "bank1 = np.random.poisson(2, 10000)\n",
    "(bank1 == 0).mean()"
   ]
  },
  {
   "cell_type": "code",
   "execution_count": 144,
   "id": "d3510c77",
   "metadata": {},
   "outputs": [
    {
     "data": {
      "text/plain": [
       "0.32332358381693654"
      ]
     },
     "execution_count": 144,
     "metadata": {},
     "output_type": "execute_result"
    }
   ],
   "source": [
    "# probability that 3 or more cars come through drive through\n",
    "stats.poisson(2).sf(2)"
   ]
  },
  {
   "cell_type": "code",
   "execution_count": 143,
   "id": "8d636132",
   "metadata": {},
   "outputs": [
    {
     "data": {
      "text/plain": [
       "0.3251"
      ]
     },
     "execution_count": 143,
     "metadata": {},
     "output_type": "execute_result"
    }
   ],
   "source": [
    "# simulation\n",
    "\n",
    "bank2 = np.random.poisson(2, 10000)\n",
    "(bank2 >= 3).mean()"
   ]
  },
  {
   "cell_type": "code",
   "execution_count": 149,
   "id": "08e4ce55",
   "metadata": {},
   "outputs": [
    {
     "data": {
      "text/plain": [
       "0.8646647167633873"
      ]
     },
     "execution_count": 149,
     "metadata": {},
     "output_type": "execute_result"
    }
   ],
   "source": [
    "# likelihood of at least 1 car\n",
    "\n",
    "stats.poisson(2).sf(0)"
   ]
  },
  {
   "cell_type": "code",
   "execution_count": 141,
   "id": "b1eb3e91",
   "metadata": {},
   "outputs": [
    {
     "data": {
      "text/plain": [
       "0.8648"
      ]
     },
     "execution_count": 141,
     "metadata": {},
     "output_type": "execute_result"
    }
   ],
   "source": [
    "# simulation\n",
    "\n",
    "bank3 = np.random.poisson(2, 10000)\n",
    "(bank3 >= 1).mean()"
   ]
  },
  {
   "cell_type": "markdown",
   "id": "c5229098",
   "metadata": {},
   "source": [
    "# NUMBER 2"
   ]
  },
  {
   "cell_type": "code",
   "execution_count": 51,
   "id": "a23b65f1",
   "metadata": {},
   "outputs": [
    {
     "data": {
      "image/png": "[encoded data removed]",
      "text/plain": [
       "<Figure size 432x288 with 1 Axes>"
      ]
     },
     "metadata": {
      "needs_background": "light"
     },
     "output_type": "display_data"
    }
   ],
   "source": [
    "pd.Series(stats.norm(3, .3).rvs(10000)).plot.hist()\n",
    "plt.title('Grades of State University')\n",
    "plt.xlabel('GPA')\n",
    "plt.show()"
   ]
  },
  {
   "cell_type": "code",
   "execution_count": 24,
   "id": "3ee7a8d7",
   "metadata": {},
   "outputs": [
    {
     "data": {
      "text/plain": [
       "3.4934560880854417"
      ]
     },
     "execution_count": 24,
     "metadata": {},
     "output_type": "execute_result"
    }
   ],
   "source": [
    "mean = 3\n",
    "stdd = .3\n",
    "\n",
    "# what gpa is required to be in top 5%\n",
    "\n",
    "stats.norm(3, .3).isf(.05)"
   ]
  },
  {
   "cell_type": "code",
   "execution_count": 160,
   "id": "d91b56ca",
   "metadata": {},
   "outputs": [
    {
     "data": {
      "text/plain": [
       "3.488008802613991"
      ]
     },
     "execution_count": 160,
     "metadata": {},
     "output_type": "execute_result"
    }
   ],
   "source": [
    "# Simulation\n",
    "\n",
    "gpa1 = np.random.normal(3, .3, 10000)\n",
    "np.quantile(gpa1, .95)"
   ]
  },
  {
   "cell_type": "code",
   "execution_count": 25,
   "id": "74fdebc6",
   "metadata": {},
   "outputs": [
    {
     "data": {
      "text/plain": [
       "2.689069983151863"
      ]
     },
     "execution_count": 25,
     "metadata": {},
     "output_type": "execute_result"
    }
   ],
   "source": [
    "# what gpa constitutes the bottom 15%\n",
    "\n",
    "stats.norm(3, .3).ppf(.15)"
   ]
  },
  {
   "cell_type": "code",
   "execution_count": 162,
   "id": "d62f215d",
   "metadata": {},
   "outputs": [
    {
     "data": {
      "text/plain": [
       "2.684305067655319"
      ]
     },
     "execution_count": 162,
     "metadata": {},
     "output_type": "execute_result"
    }
   ],
   "source": [
    "# Simulation\n",
    "\n",
    "gpa2 = np.random.normal(3, .3, 10000)\n",
    "np.percentile(gpa2, 15)"
   ]
  },
  {
   "cell_type": "code",
   "execution_count": 32,
   "id": "b566f9a1",
   "metadata": {},
   "outputs": [
    {
     "data": {
      "text/plain": [
       "2.7475136299281258"
      ]
     },
     "execution_count": 32,
     "metadata": {},
     "output_type": "execute_result"
    }
   ],
   "source": [
    "# Find the bottom range of the third decile\n",
    "\n",
    "min_range = stats.norm(3, .3).ppf(.2)\n",
    "min_range"
   ]
  },
  {
   "cell_type": "code",
   "execution_count": 33,
   "id": "412d4aa1",
   "metadata": {},
   "outputs": [
    {
     "data": {
      "text/plain": [
       "2.842679846187588"
      ]
     },
     "execution_count": 33,
     "metadata": {},
     "output_type": "execute_result"
    }
   ],
   "source": [
    "# Find the top range of the third decile\n",
    "max_range = stats.norm(3, .3).ppf(.3)\n",
    "max_range"
   ]
  },
  {
   "cell_type": "code",
   "execution_count": 34,
   "id": "f6154745",
   "metadata": {},
   "outputs": [
    {
     "data": {
      "text/plain": [
       "True"
      ]
     },
     "execution_count": 34,
     "metadata": {},
     "output_type": "execute_result"
    }
   ],
   "source": [
    "# Does this GPA fall in the 3rd decile\n",
    "min_range < 2.8 < max_range"
   ]
  },
  {
   "cell_type": "code",
   "execution_count": 35,
   "id": "6d63c7e2",
   "metadata": {},
   "outputs": [
    {
     "data": {
      "text/plain": [
       "0.9522096477271853"
      ]
     },
     "execution_count": 35,
     "metadata": {},
     "output_type": "execute_result"
    }
   ],
   "source": [
    "stats.norm(3, .3).cdf(3.5)"
   ]
  },
  {
   "cell_type": "code",
   "execution_count": 159,
   "id": "e7dc9599",
   "metadata": {},
   "outputs": [
    {
     "data": {
      "text/plain": [
       "0.9528"
      ]
     },
     "execution_count": 159,
     "metadata": {},
     "output_type": "execute_result"
    }
   ],
   "source": [
    "# simulation\n",
    "\n",
    "gpa5 = np.random.normal(3, .3, 10000)\n",
    "(gpa5 < 3.5).mean()"
   ]
  },
  {
   "cell_type": "markdown",
   "id": "20b12031",
   "metadata": {},
   "source": [
    "# NUMBER 3\n"
   ]
  },
  {
   "cell_type": "code",
   "execution_count": 56,
   "id": "fc2a4b4c",
   "metadata": {},
   "outputs": [
    {
     "data": {
      "image/png": "[encoded data removed]",
      "text/plain": [
       "<Figure size 432x288 with 1 Axes>"
      ]
     },
     "metadata": {
      "needs_background": "light"
     },
     "output_type": "display_data"
    }
   ],
   "source": [
    "pd.Series(stats.binom(4326, .02).rvs(10000)).value_counts().sort_index().plot.bar()\n",
    "plt.show()"
   ]
  },
  {
   "cell_type": "code",
   "execution_count": 41,
   "id": "fac481bc",
   "metadata": {},
   "outputs": [
    {
     "data": {
      "text/plain": [
       "0.13975823631416445"
      ]
     },
     "execution_count": 41,
     "metadata": {},
     "output_type": "execute_result"
    }
   ],
   "source": [
    "click_rate = .02\n",
    "visitors = 4326\n",
    "click_throughs = 96\n",
    "\n",
    "# Binomial\n",
    "\n",
    "stats.binom(visitors, click_rate).sf(click_throughs)"
   ]
  },
  {
   "cell_type": "code",
   "execution_count": null,
   "id": "a6767360",
   "metadata": {},
   "outputs": [],
   "source": [
    "# simulation\n",
    "\n"
   ]
  },
  {
   "cell_type": "markdown",
   "id": "6690a9ea",
   "metadata": {},
   "source": [
    "# NUMBER 4"
   ]
  },
  {
   "cell_type": "code",
   "execution_count": 60,
   "id": "5fb3d88c",
   "metadata": {},
   "outputs": [
    {
     "data": {
      "image/png": "[encoded data removed]",
      "text/plain": [
       "<Figure size 432x288 with 1 Axes>"
      ]
     },
     "metadata": {
      "needs_background": "light"
     },
     "output_type": "display_data"
    }
   ],
   "source": [
    "pd.Series(stats.binom(60, .01).rvs(10000)).value_counts().sort_index().plot.bar()\n",
    "plt.title('Probability of Correct Guesses')\n",
    "plt.ylabel('Frequency')\n",
    "plt.xlabel('Correct Answers')\n",
    "plt.show()"
   ]
  },
  {
   "cell_type": "code",
   "execution_count": 46,
   "id": "2299f5e9",
   "metadata": {},
   "outputs": [
    {
     "data": {
      "text/plain": [
       "0.45284335760923855"
      ]
     },
     "execution_count": 46,
     "metadata": {},
     "output_type": "execute_result"
    }
   ],
   "source": [
    "questions = 100\n",
    "guesses = 60\n",
    "probability = 1/100\n",
    "\n",
    "stats.binom(guesses, probability).sf(0)"
   ]
  },
  {
   "cell_type": "code",
   "execution_count": null,
   "id": "68b16475",
   "metadata": {},
   "outputs": [],
   "source": [
    "# simulation\n",
    "\n",
    "np.random.binomial(guesses, probability)"
   ]
  },
  {
   "cell_type": "markdown",
   "id": "7a46ea3b",
   "metadata": {},
   "source": [
    "# NUMBER 5"
   ]
  },
  {
   "cell_type": "code",
   "execution_count": 64,
   "id": "658db1d6",
   "metadata": {},
   "outputs": [
    {
     "data": {
      "image/png": "[encoded data removed]",
      "text/plain": [
       "<Figure size 432x288 with 1 Axes>"
      ]
     },
     "metadata": {
      "needs_background": "light"
     },
     "output_type": "display_data"
    }
   ],
   "source": [
    "pd.Series(stats.binom(59, .03).rvs(10000)).value_counts().sort_index().plot.bar()\n",
    "plt.title('Breakroom Cleanings each week')\n",
    "plt.ylabel('Frequency')\n",
    "plt.xlabel('Days Cleaned')\n",
    "plt.show()"
   ]
  },
  {
   "cell_type": "code",
   "execution_count": 57,
   "id": "95409251",
   "metadata": {},
   "outputs": [
    {
     "data": {
      "text/plain": [
       "0.8342199288437352"
      ]
     },
     "execution_count": 57,
     "metadata": {},
     "output_type": "execute_result"
    }
   ],
   "source": [
    "cleaned = .03\n",
    "visitors = 59\n",
    "\n",
    "stats.binom(visitors, cleaned).sf(0)"
   ]
  },
  {
   "cell_type": "code",
   "execution_count": null,
   "id": "2a318889",
   "metadata": {},
   "outputs": [],
   "source": [
    "choice ['clean' , 'not clean'] p[]"
   ]
  },
  {
   "cell_type": "code",
   "execution_count": 153,
   "id": "8261f917",
   "metadata": {},
   "outputs": [
    {
     "data": {
      "text/plain": [
       "0.8313"
      ]
     },
     "execution_count": 153,
     "metadata": {},
     "output_type": "execute_result"
    }
   ],
   "source": [
    "clean1 = np.random.binomial(visitors, cleaned, 10000)\n",
    "(clean1 >= 1).mean()"
   ]
  },
  {
   "cell_type": "code",
   "execution_count": 66,
   "id": "71d46f68",
   "metadata": {},
   "outputs": [
    {
     "data": {
      "text/plain": [
       "0.027483031992576134"
      ]
     },
     "execution_count": 66,
     "metadata": {},
     "output_type": "execute_result"
    }
   ],
   "source": [
    "stats.binom(visitors * 2, cleaned).pmf(0)"
   ]
  },
  {
   "cell_type": "code",
   "execution_count": 158,
   "id": "f267f5ac",
   "metadata": {},
   "outputs": [
    {
     "data": {
      "text/plain": [
       "0.6964"
      ]
     },
     "execution_count": 158,
     "metadata": {},
     "output_type": "execute_result"
    }
   ],
   "source": [
    "clean2 = np.random.binomial(visitors * 2, cleaned, 10000)\n",
    "(clean2 > 2).mean()"
   ]
  },
  {
   "cell_type": "code",
   "execution_count": 67,
   "id": "4e25f9d8",
   "metadata": {},
   "outputs": [
    {
     "data": {
      "text/plain": [
       "0.00012521651388091245"
      ]
     },
     "execution_count": 67,
     "metadata": {},
     "output_type": "execute_result"
    }
   ],
   "source": [
    "stats.binom(visitors * 5, cleaned).pmf(0)"
   ]
  },
  {
   "cell_type": "markdown",
   "id": "18048ae2",
   "metadata": {},
   "source": [
    "# NUMBER 6\n"
   ]
  },
  {
   "cell_type": "code",
   "execution_count": 75,
   "id": "a4eb58fe",
   "metadata": {},
   "outputs": [
    {
     "data": {
      "text/plain": [
       "<function matplotlib.pyplot.show(close=None, block=None)>"
      ]
     },
     "execution_count": 75,
     "metadata": {},
     "output_type": "execute_result"
    },
    {
     "data": {
      "image/png": "[encoded data removed]",
      "text/plain": [
       "<Figure size 432x288 with 1 Axes>"
      ]
     },
     "metadata": {
      "needs_background": "light"
     },
     "output_type": "display_data"
    }
   ],
   "source": [
    "pd.Series(stats.norm(15, 3).rvs(10000)).plot.hist()\n",
    "plt.title('Lunchtime Line')\n",
    "plt.xlabel('People in Line')\n",
    "plt.show"
   ]
  },
  {
   "cell_type": "code",
   "execution_count": 164,
   "id": "7268c573",
   "metadata": {},
   "outputs": [
    {
     "data": {
      "text/plain": [
       "0.6305586598182363"
      ]
     },
     "execution_count": 164,
     "metadata": {},
     "output_type": "execute_result"
    }
   ],
   "source": [
    "mean = 15\n",
    "stdd = 3\n",
    "\n",
    "stats.norm(15, 3).cdf(16)"
   ]
  },
  {
   "cell_type": "markdown",
   "id": "fbf72eba",
   "metadata": {},
   "source": [
    "# Number 7"
   ]
  },
  {
   "cell_type": "code",
   "execution_count": 165,
   "id": "2c2a2d26",
   "metadata": {},
   "outputs": [
    {
     "data": {
      "text/html": [
       "<div>\n",
       "<style scoped>\n",
       "    .dataframe tbody tr th:only-of-type {\n",
       "        vertical-align: middle;\n",
       "    }\n",
       "\n",
       "    .dataframe tbody tr th {\n",
       "        vertical-align: top;\n",
       "    }\n",
       "\n",
       "    .dataframe thead th {\n",
       "        text-align: right;\n",
       "    }\n",
       "</style>\n",
       "<table border=\"1\" class=\"dataframe\">\n",
       "  <thead>\n",
       "    <tr style=\"text-align: right;\">\n",
       "      <th></th>\n",
       "      <th>salary</th>\n",
       "    </tr>\n",
       "  </thead>\n",
       "  <tbody>\n",
       "    <tr>\n",
       "      <th>0</th>\n",
       "      <td>38623</td>\n",
       "    </tr>\n",
       "    <tr>\n",
       "      <th>1</th>\n",
       "      <td>38936</td>\n",
       "    </tr>\n",
       "    <tr>\n",
       "      <th>2</th>\n",
       "      <td>38942</td>\n",
       "    </tr>\n",
       "    <tr>\n",
       "      <th>3</th>\n",
       "      <td>39012</td>\n",
       "    </tr>\n",
       "    <tr>\n",
       "      <th>4</th>\n",
       "      <td>39036</td>\n",
       "    </tr>\n",
       "  </tbody>\n",
       "</table>\n",
       "</div>"
      ],
      "text/plain": [
       "   salary\n",
       "0   38623\n",
       "1   38936\n",
       "2   38942\n",
       "3   39012\n",
       "4   39036"
      ]
     },
     "execution_count": 165,
     "metadata": {},
     "output_type": "execute_result"
    }
   ],
   "source": [
    "salary = pd.read_sql(\"SELECT salary FROM salaries WHERE to_date  > NOW() ORDER BY salary\", get_db_url('employees'))\n",
    "salary.head()"
   ]
  },
  {
   "cell_type": "code",
   "execution_count": null,
   "id": "cfdf455d",
   "metadata": {},
   "outputs": [],
   "source": [
    "pd.Series"
   ]
  },
  {
   "cell_type": "code",
   "execution_count": 112,
   "id": "03992554",
   "metadata": {},
   "outputs": [
    {
     "data": {
      "text/plain": [
       "72012.23585730705"
      ]
     },
     "execution_count": 112,
     "metadata": {},
     "output_type": "execute_result"
    }
   ],
   "source": [
    "mean = salary.salary.mean()\n",
    "mean"
   ]
  },
  {
   "cell_type": "code",
   "execution_count": 115,
   "id": "19fc66f5",
   "metadata": {},
   "outputs": [
    {
     "data": {
      "text/plain": [
       "17309.99538025198"
      ]
     },
     "execution_count": 115,
     "metadata": {},
     "output_type": "execute_result"
    }
   ],
   "source": [
    "stddev = salary.salary.std()\n",
    "stddev"
   ]
  },
  {
   "cell_type": "code",
   "execution_count": 116,
   "id": "d9cc0ab8",
   "metadata": {},
   "outputs": [
    {
     "data": {
      "text/plain": [
       "0.24385742480214423"
      ]
     },
     "execution_count": 116,
     "metadata": {},
     "output_type": "execute_result"
    }
   ],
   "source": [
    "stats.norm(mean, stddev).cdf(60000)"
   ]
  },
  {
   "cell_type": "code",
   "execution_count": 117,
   "id": "b110abeb",
   "metadata": {},
   "outputs": [
    {
     "data": {
      "text/plain": [
       "0.09208819199804053"
      ]
     },
     "execution_count": 117,
     "metadata": {},
     "output_type": "execute_result"
    }
   ],
   "source": [
    "stats.norm(mean, stddev).sf(95000)"
   ]
  },
  {
   "cell_type": "code",
   "execution_count": 120,
   "id": "e7ddcfb1",
   "metadata": {},
   "outputs": [
    {
     "data": {
      "text/plain": [
       "0.6572970780493486"
      ]
     },
     "execution_count": 120,
     "metadata": {},
     "output_type": "execute_result"
    }
   ],
   "source": [
    "bottom_range = stats.norm(mean, stddev).sf(65000)\n",
    "bottom_range"
   ]
  },
  {
   "cell_type": "code",
   "execution_count": 130,
   "id": "16962b50",
   "metadata": {},
   "outputs": [
    {
     "data": {
      "text/plain": [
       "0.32223650950468197"
      ]
     },
     "execution_count": 130,
     "metadata": {},
     "output_type": "execute_result"
    }
   ],
   "source": [
    "top_range = stats.norm(mean, stddev).sf(80000)\n",
    "top_range"
   ]
  },
  {
   "cell_type": "code",
   "execution_count": 132,
   "id": "c69b5e21",
   "metadata": {},
   "outputs": [
    {
     "data": {
      "text/plain": [
       "0.3350605685446666"
      ]
     },
     "execution_count": 132,
     "metadata": {},
     "output_type": "execute_result"
    }
   ],
   "source": [
    "bottom_range - top_range"
   ]
  },
  {
   "cell_type": "code",
   "execution_count": 125,
   "id": "422af1f1",
   "metadata": {},
   "outputs": [
    {
     "data": {
      "text/plain": [
       "array([0.34270292, 0.67776349])"
      ]
     },
     "execution_count": 125,
     "metadata": {},
     "output_type": "execute_result"
    }
   ],
   "source": [
    "stats.norm(mean, stddev).cdf([65000, 80000])"
   ]
  },
  {
   "cell_type": "code",
   "execution_count": 133,
   "id": "b1561ad6",
   "metadata": {},
   "outputs": [
    {
     "data": {
      "text/plain": [
       "0.33506057"
      ]
     },
     "execution_count": 133,
     "metadata": {},
     "output_type": "execute_result"
    }
   ],
   "source": [
    "0.67776349 - 0.34270292"
   ]
  },
  {
   "cell_type": "code",
   "execution_count": 123,
   "id": "5c706f3e",
   "metadata": {},
   "outputs": [
    {
     "data": {
      "text/plain": [
       "100484.64454102777"
      ]
     },
     "execution_count": 123,
     "metadata": {},
     "output_type": "execute_result"
    }
   ],
   "source": [
    "stats.norm(mean, stddev).isf(.05)"
   ]
  },
  {
   "cell_type": "code",
   "execution_count": null,
   "id": "7608f24f",
   "metadata": {},
   "outputs": [],
   "source": []
  }
 ],
 "metadata": {
  "kernelspec": {
   "display_name": "Python 3 (ipykernel)",
   "language": "python",
   "name": "python3"
  },
  "language_info": {
   "codemirror_mode": {
    "name": "ipython",
    "version": 3
   },
   "file_extension": ".py",
   "mimetype": "text/x-python",
   "name": "python",
   "nbconvert_exporter": "python",
   "pygments_lexer": "ipython3",
   "version": "3.9.7"
  }
 },
 "nbformat": 4,
 "nbformat_minor": 5
}
